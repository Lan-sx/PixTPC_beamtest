{
 "cells": [
  {
   "cell_type": "code",
   "execution_count": 1,
   "metadata": {},
   "outputs": [
    {
     "name": "stdout",
     "output_type": "stream",
     "text": [
      "Welcome to JupyROOT 6.28/12\n"
     ]
    }
   ],
   "source": [
    "import ROOT\n",
    "import uproot"
   ]
  },
  {
   "cell_type": "code",
   "execution_count": 4,
   "metadata": {},
   "outputs": [
    {
     "data": {
      "text/plain": [
       "0"
      ]
     },
     "execution_count": 4,
     "metadata": {},
     "output_type": "execute_result"
    }
   ],
   "source": [
    "#load .so \n",
    "ROOT.gSystem.Load(\"/mnt/e/WorkSpace/GitRepo/PixTPC_beamtest/install/lib/libPixelTPCdata.so\")\n",
    "ROOT.gSystem.Load(\"/mnt/e/WorkSpace/GitRepo/PixTPC_beamtest/install/lib/libMCTrackdata.so\")"
   ]
  },
  {
   "cell_type": "code",
   "execution_count": 5,
   "metadata": {},
   "outputs": [
    {
     "name": "stdout",
     "output_type": "stream",
     "text": [
      "['PixTPCdata;3', 'PixTPCdata;2']\n",
      "{'PixTPCdata;3': 'TTree', 'PixTPCdata;2': 'TTree'}\n"
     ]
    }
   ],
   "source": [
    "#open file\n",
    "with uproot.open(\"/mnt/e/WorkSpace/DESYBeam_Test/test/TEPIX_DAQ_jianmeng/1121/Rawexpdata12chips_merge_test.root\") as file:\n",
    "    print(file.keys())\n",
    "    print(file.classnames())"
   ]
  },
  {
   "cell_type": "code",
   "execution_count": 17,
   "metadata": {},
   "outputs": [
    {
     "name": "stdout",
     "output_type": "stream",
     "text": [
      "T,Q 77.0 2907.0\n",
      "T,Q 4122.0 2937.0\n",
      "T,Q 8167.0 3046.0\n",
      "T,Q 12212.0 3339.0\n"
     ]
    }
   ],
   "source": [
    "#open tree in file\n",
    "with uproot.open(\"/mnt/e/WorkSpace/DESYBeam_Test/test/TEPIX_DAQ_jianmeng/1121/Rawexpdata12chips_merge_test.root:PixTPCdata\") as PixTPCdata:\n",
    "    #PixTPCdata.show()\n",
    "    #print(PixTPCdata.keys())\n",
    "    #print(PixTPCdata.keys(filter_name=\"fTestdata\"))\n",
    "    ak_array = PixTPCdata.arrays(filter_name=\"fTestdata\")\n",
    "    dict1 = ak_array[0].tolist()\n",
    "    #print(len(list1))\n",
    "    #print(dict1)\n",
    "    list1 = dict1['fTestdata']\n",
    "    for SingleChnQT in list1[0][0]:\n",
    "        print(\"T,Q\",SingleChnQT['first'],SingleChnQT['second'])\n",
    "    #print(len(list1))\n"
   ]
  }
 ],
 "metadata": {
  "kernelspec": {
   "display_name": "Python 3",
   "language": "python",
   "name": "python3"
  },
  "language_info": {
   "codemirror_mode": {
    "name": "ipython",
    "version": 3
   },
   "file_extension": ".py",
   "mimetype": "text/x-python",
   "name": "python",
   "nbconvert_exporter": "python",
   "pygments_lexer": "ipython3",
   "version": "3.8.10"
  }
 },
 "nbformat": 4,
 "nbformat_minor": 2
}
